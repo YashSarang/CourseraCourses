{
  "nbformat": 4,
  "nbformat_minor": 0,
  "metadata": {
    "colab": {
      "provenance": []
    },
    "kernelspec": {
      "name": "python3",
      "display_name": "Python 3"
    },
    "language_info": {
      "name": "python"
    }
  },
  "cells": [
    {
      "cell_type": "markdown",
      "source": [
        "# Coursera Assignment Notebook\n"
      ],
      "metadata": {
        "id": "07awPb3NXuOG"
      }
    },
    {
      "cell_type": "markdown",
      "source": [
        "## Introduction\n",
        "This is a jupyter notebook to store my whole assignment.\n"
      ],
      "metadata": {
        "id": "WgQ9FNphX_LH"
      }
    },
    {
      "cell_type": "markdown",
      "source": [
        "### Data Science Languages\n",
        "* Python\n",
        "* R\n",
        "* SQL\n",
        "* Julia\n",
        "* MATLAB\n",
        "* Scala\n",
        "* SAS"
      ],
      "metadata": {
        "id": "XBE0XgtIX_RN"
      }
    },
    {
      "cell_type": "markdown",
      "source": [
        "### Data Science libraries\n",
        "* NumPy\n",
        "* Pandas\n",
        "* Scikit-learn\n",
        "* TensorFlow\n",
        "* Keras\n",
        "* PyTorch\n",
        "* Matplotlib\n",
        "* Seaborn\n",
        "* Plotly\n",
        "* SciPy"
      ],
      "metadata": {
        "id": "QRZehyw_Y1D3"
      }
    },
    {
      "cell_type": "markdown",
      "source": [
        "| Language      | Libraries/Frameworks        | Visualization Tools    | Database Tools   |\n",
        "|---------------|-----------------------------|------------------------|------------------|\n",
        "| Python        | NumPy, Pandas, scikit-learn | Matplotlib, Plotly     | SQL, SQLite      |\n",
        "| R             | dplyr, ggplot2              | ggplot2, Plotly        | MySQL, PostgreSQL|\n",
        "| SQL           | -                           | -                      | MySQL, PostgreSQL|\n",
        "| Julia         | Flux, MLJ                   | Plots, VegaLite        | -                |\n",
        "| MATLAB        | -                           | MATLAB Visualization  | -                |\n",
        "| Scala         | Spark MLlib, Breeze         | Spark Visualization    | Apache Cassandra |\n",
        "| SAS           | SAS/STAT, SAS/IML           | SAS Visual Analytics   | SAS/ACCESS       |"
      ],
      "metadata": {
        "id": "MYN9PFgtZ0mC"
      }
    },
    {
      "cell_type": "markdown",
      "source": [
        "### Arithmetic Expressions Examples:\n",
        "\n",
        "Arithmetic expressions are mathematical expressions that involve mathematical operations like addition, subtraction, multiplication, and division. Here are some examples of arithmetic expressions:\n",
        "\n",
        "1. Addition:\n",
        "   - `2 + 3` equals 5\n",
        "   - `7.5 + 2.1` equals 9.6\n",
        "\n",
        "2. Subtraction:\n",
        "   - `10 - 4` equals 6\n",
        "   - `5.7 - 2.3` equals 3.4\n",
        "\n",
        "3. Multiplication:\n",
        "   - `3 * 4` equals 12\n",
        "   - `2.5 * 1.8` equals 4.5\n",
        "\n",
        "4. Division:\n",
        "   - `10 / 2` equals 5\n",
        "   - `7.5 / 2.5` equals 3"
      ],
      "metadata": {
        "id": "r4_KoRTWaCGg"
      }
    },
    {
      "cell_type": "code",
      "source": [
        "# Multiply and Add Numbers\n",
        "number1 = 5\n",
        "number2 = 3\n",
        "\n",
        "# Multiplication\n",
        "product = number1 * number2\n",
        "print(\"Product:\", product)\n",
        "\n",
        "# Addition\n",
        "sum = number1 + number2\n",
        "print(\"Sum:\", sum)"
      ],
      "metadata": {
        "id": "azgOzvIEXuAO",
        "colab": {
          "base_uri": "https://localhost:8080/"
        },
        "outputId": "1093a52c-b76a-451c-fd7e-300db6557f40"
      },
      "execution_count": 1,
      "outputs": [
        {
          "output_type": "stream",
          "name": "stdout",
          "text": [
            "Product: 15\n",
            "Sum: 8\n"
          ]
        }
      ]
    },
    {
      "cell_type": "code",
      "source": [
        "# Convert Minutes to Hours\n",
        "minutes = 150\n",
        "\n",
        "# Conversion\n",
        "hours = minutes / 60\n",
        "\n",
        "# Display the result\n",
        "print(\"Minutes:\", minutes)\n",
        "print(\"Hours:\", hours)"
      ],
      "metadata": {
        "colab": {
          "base_uri": "https://localhost:8080/"
        },
        "id": "4B60H893aleZ",
        "outputId": "60e126a9-3dbb-4cbc-9571-601f02be7522"
      },
      "execution_count": 2,
      "outputs": [
        {
          "output_type": "stream",
          "name": "stdout",
          "text": [
            "Minutes: 150\n",
            "Hours: 2.5\n"
          ]
        }
      ]
    },
    {
      "cell_type": "markdown",
      "source": [
        "### Objectives\n",
        "\n",
        "- Gain a strong understanding of data science concepts and techniques.\n",
        "- Learn to analyze and visualize data effectively.\n",
        "- Develop skills in machine learning and predictive modeling."
      ],
      "metadata": {
        "id": "NI4ZMcjNaPQ-"
      }
    },
    {
      "cell_type": "markdown",
      "source": [
        "# Author - Yash Sarang."
      ],
      "metadata": {
        "id": "geJQ9qZbbHt9"
      }
    }
  ]
}